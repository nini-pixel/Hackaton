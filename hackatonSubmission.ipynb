{
 "cells": [
  {
   "cell_type": "code",
   "execution_count": 37,
   "id": "d6a4d014",
   "metadata": {},
   "outputs": [
    {
     "data": {
      "text/html": [
       "\n",
       "            <div id=\"jAssfW\"></div>\n",
       "            <script type=\"text/javascript\" data-lets-plot-script=\"library\">\n",
       "                if(!window.letsPlotCallQueue) {\n",
       "                    window.letsPlotCallQueue = [];\n",
       "                }; \n",
       "                window.letsPlotCall = function(f) {\n",
       "                    window.letsPlotCallQueue.push(f);\n",
       "                };\n",
       "                (function() {\n",
       "                    var script = document.createElement(\"script\");\n",
       "                    script.type = \"text/javascript\";\n",
       "                    script.src = \"https://cdn.jsdelivr.net/gh/JetBrains/lets-plot@v4.6.2/js-package/distr/lets-plot.min.js\";\n",
       "                    script.onload = function() {\n",
       "                        window.letsPlotCall = function(f) {f();};\n",
       "                        window.letsPlotCallQueue.forEach(function(f) {f();});\n",
       "                        window.letsPlotCallQueue = [];\n",
       "                        \n",
       "                    };\n",
       "                    script.onerror = function(event) {\n",
       "                        window.letsPlotCall = function(f) {};    // noop\n",
       "                        window.letsPlotCallQueue = [];\n",
       "                        var div = document.createElement(\"div\");\n",
       "                        div.style.color = 'darkred';\n",
       "                        div.textContent = 'Error loading Lets-Plot JS';\n",
       "                        document.getElementById(\"jAssfW\").appendChild(div);\n",
       "                    };\n",
       "                    var e = document.getElementById(\"jAssfW\");\n",
       "                    e.appendChild(script);\n",
       "                })()\n",
       "            </script>\n",
       "            "
      ]
     },
     "metadata": {},
     "output_type": "display_data"
    },
    {
     "name": "stderr",
     "output_type": "stream",
     "text": [
      "[*********************100%***********************]  1 of 1 completed\n",
      "\n",
      "1 Failed download:\n",
      "['HONDW']: YFPricesMissingError('possibly delisted; no price data found  (1d 2020-10-27 -> 2020-12-03)')\n"
     ]
    },
    {
     "name": "stdout",
     "output_type": "stream",
     "text": [
      "\n",
      "Client Requirements:\n",
      "Period: 2020-10-27 to 2020-12-03\n",
      "Disliked Sectors: ['Trade and Services', 'Structured Finance', 'Energy and Transportation', 'Technology']\n",
      "Age: 65, Salary: $1,784, Budget: $289\n",
      "\n",
      "==================================================\n",
      "Starting stock selection for 2020-10-27 to 2020-12-03\n",
      "Avoiding sectors: ['Trade and Services', 'Structured Finance', 'Energy and Transportation', 'Technology']\n",
      "HONDW: Data currently unavailable...\n"
     ]
    },
    {
     "name": "stderr",
     "output_type": "stream",
     "text": [
      "[*********************100%***********************]  1 of 1 completed\n",
      "\n",
      "1 Failed download:\n",
      "['TWNP']: YFPricesMissingError('possibly delisted; no price data found  (1d 2020-10-27 -> 2020-12-03) (Yahoo error = \"Data doesn\\'t exist for startDate = 1603771200, endDate = 1606971600\")')\n"
     ]
    },
    {
     "name": "stdout",
     "output_type": "stream",
     "text": [
      "TWNP: Data currently unavailable...\n"
     ]
    },
    {
     "name": "stderr",
     "output_type": "stream",
     "text": [
      "[*********************100%***********************]  1 of 1 completed\n",
      "\n",
      "1 Failed download:\n",
      "['DATSW']: YFPricesMissingError('possibly delisted; no price data found  (1d 2020-10-27 -> 2020-12-03) (Yahoo error = \"Data doesn\\'t exist for startDate = 1603771200, endDate = 1606971600\")')\n",
      "[*********************100%***********************]  1 of 1 completed\n",
      "\n",
      "1 Failed download:\n",
      "['AREBW']: YFPricesMissingError('possibly delisted; no price data found  (1d 2020-10-27 -> 2020-12-03)')\n",
      "[*********************100%***********************]  1 of 1 completed\n",
      "\n",
      "1 Failed download:\n",
      "['TWNPV']: YFTzMissingError('possibly delisted; no timezone found')\n"
     ]
    },
    {
     "name": "stdout",
     "output_type": "stream",
     "text": [
      "DATSW: Data currently unavailable...\n",
      "AREBW: Data currently unavailable...\n",
      "TWNPV: Data currently unavailable...\n"
     ]
    },
    {
     "name": "stderr",
     "output_type": "stream",
     "text": [
      "[*********************100%***********************]  1 of 1 completed\n",
      "\n",
      "1 Failed download:\n",
      "['MGAM']: YFPricesMissingError('possibly delisted; no price data found  (1d 2020-10-27 -> 2020-12-03) (Yahoo error = \"Data doesn\\'t exist for startDate = 1603771200, endDate = 1606971600\")')\n",
      "[*********************100%***********************]  1 of 1 completed\n",
      "\n",
      "1 Failed download:\n",
      "['WLDSW']: YFPricesMissingError('possibly delisted; no price data found  (1d 2020-10-27 -> 2020-12-03)')\n"
     ]
    },
    {
     "name": "stdout",
     "output_type": "stream",
     "text": [
      "MGAM: Data currently unavailable...\n",
      "WLDSW: Data currently unavailable...\n"
     ]
    },
    {
     "name": "stderr",
     "output_type": "stream",
     "text": [
      "[*********************100%***********************]  1 of 1 completed\n",
      "\n",
      "1 Failed download:\n",
      "['DGNX']: YFPricesMissingError('possibly delisted; no price data found  (1d 2020-10-27 -> 2020-12-03) (Yahoo error = \"Data doesn\\'t exist for startDate = 1603771200, endDate = 1606971600\")')\n",
      "[*********************100%***********************]  1 of 1 completed\n"
     ]
    },
    {
     "name": "stdout",
     "output_type": "stream",
     "text": [
      "DGNX: Data currently unavailable...\n",
      "ABTS: This stock is quite volatile, but you can diversify it away\n"
     ]
    },
    {
     "name": "stderr",
     "output_type": "stream",
     "text": [
      "[*********************100%***********************]  1 of 1 completed\n",
      "\n",
      "1 Failed download:\n",
      "['SKBL']: YFPricesMissingError('possibly delisted; no price data found  (1d 2020-10-27 -> 2020-12-03) (Yahoo error = \"Data doesn\\'t exist for startDate = 1603771200, endDate = 1606971600\")')\n",
      "[*********************100%***********************]  1 of 1 completed\n"
     ]
    },
    {
     "name": "stdout",
     "output_type": "stream",
     "text": [
      "SKBL: Data currently unavailable...\n"
     ]
    },
    {
     "name": "stderr",
     "output_type": "stream",
     "text": [
      "[*********************100%***********************]  1 of 1 completed\n",
      "[*********************100%***********************]  1 of 1 completed\n"
     ]
    },
    {
     "name": "stdout",
     "output_type": "stream",
     "text": [
      "LXEH: Do not invest! You will lose the value of your investment.\n",
      "FTFT: Let's exclude this stock as it is part of the (Technology) sector.\n",
      "Shall we FTFT continue?\n"
     ]
    },
    {
     "name": "stderr",
     "output_type": "stream",
     "text": [
      "[*********************100%***********************]  1 of 1 completed\n",
      "\n",
      "1 Failed download:\n",
      "['MLGO']: YFPricesMissingError('possibly delisted; no price data found  (1d 2020-10-27 -> 2020-12-03) (Yahoo error = \"Data doesn\\'t exist for startDate = 1603771200, endDate = 1606971600\")')\n"
     ]
    },
    {
     "name": "stdout",
     "output_type": "stream",
     "text": [
      "MLGO: Data currently unavailable...\n"
     ]
    },
    {
     "name": "stderr",
     "output_type": "stream",
     "text": [
      "[*********************100%***********************]  1 of 1 completed\n",
      "\n",
      "1 Failed download:\n",
      "['FFIE']: YFPricesMissingError('possibly delisted; no price data found  (1d 2020-10-27 -> 2020-12-03) (Yahoo error = \"Data doesn\\'t exist for startDate = 1603771200, endDate = 1606971600\")')\n",
      "[*********************100%***********************]  1 of 1 completed\n"
     ]
    },
    {
     "name": "stdout",
     "output_type": "stream",
     "text": [
      "FFIE: Data currently unavailable...\n"
     ]
    },
    {
     "name": "stderr",
     "output_type": "stream",
     "text": [
      "[*********************100%***********************]  1 of 1 completed\n",
      "[*********************100%***********************]  1 of 1 completed\n"
     ]
    },
    {
     "name": "stdout",
     "output_type": "stream",
     "text": [
      "TOI: Do not invest! You will lose the value of your investment.\n"
     ]
    },
    {
     "name": "stderr",
     "output_type": "stream",
     "text": [
      "[*********************100%***********************]  1 of 1 completed"
     ]
    },
    {
     "name": "stdout",
     "output_type": "stream",
     "text": [
      "DJI: No sector data.\n"
     ]
    },
    {
     "name": "stderr",
     "output_type": "stream",
     "text": [
      "\n",
      "[*********************100%***********************]  1 of 1 completed\n",
      "[*********************100%***********************]  1 of 1 completed\n",
      "\n",
      "1 Failed download:\n",
      "['AIMAW']: YFPricesMissingError('possibly delisted; no price data found  (1d 2020-10-27 -> 2020-12-03)')\n",
      "[*********************100%***********************]  1 of 1 completed\n"
     ]
    },
    {
     "name": "stdout",
     "output_type": "stream",
     "text": [
      "DOMH: Do not invest! You will lose the value of your investment.\n",
      "AIMAW: Data currently unavailable...\n"
     ]
    },
    {
     "name": "stderr",
     "output_type": "stream",
     "text": [
      "[*********************100%***********************]  1 of 1 completed\n",
      "\n",
      "1 Failed download:\n",
      "['GSPC']: YFTzMissingError('possibly delisted; no timezone found')\n"
     ]
    },
    {
     "name": "stdout",
     "output_type": "stream",
     "text": [
      "CRVO: Error during processing - '>' not supported between instances of 'NoneType' and 'float'\n",
      "GSPC: Data currently unavailable...\n"
     ]
    },
    {
     "name": "stderr",
     "output_type": "stream",
     "text": [
      "[*********************100%***********************]  1 of 1 completed\n",
      "\n",
      "1 Failed download:\n",
      "['NMAX']: YFPricesMissingError('possibly delisted; no price data found  (1d 2020-10-27 -> 2020-12-03) (Yahoo error = \"Data doesn\\'t exist for startDate = 1603771200, endDate = 1606971600\")')\n",
      "[*********************100%***********************]  1 of 1 completed\n"
     ]
    },
    {
     "name": "stdout",
     "output_type": "stream",
     "text": [
      "NMAX: Data currently unavailable...\n",
      "AAPL: Let's exclude this stock as it is part of the (Technology) sector.\n",
      "Shall we AAPL continue?\n"
     ]
    },
    {
     "name": "stderr",
     "output_type": "stream",
     "text": [
      "[*********************100%***********************]  1 of 1 completed\n",
      "\n",
      "1 Failed download:\n",
      "['YOSH']: YFPricesMissingError('possibly delisted; no price data found  (1d 2020-10-27 -> 2020-12-03) (Yahoo error = \"Data doesn\\'t exist for startDate = 1603771200, endDate = 1606971600\")')\n"
     ]
    },
    {
     "name": "stdout",
     "output_type": "stream",
     "text": [
      "YOSH: Data currently unavailable...\n"
     ]
    },
    {
     "name": "stderr",
     "output_type": "stream",
     "text": [
      "[*********************100%***********************]  1 of 1 completed\n",
      "\n",
      "1 Failed download:\n",
      "['GITS']: YFPricesMissingError('possibly delisted; no price data found  (1d 2020-10-27 -> 2020-12-03) (Yahoo error = \"Data doesn\\'t exist for startDate = 1603771200, endDate = 1606971600\")')\n"
     ]
    },
    {
     "name": "stdout",
     "output_type": "stream",
     "text": [
      "GITS: Data currently unavailable...\n"
     ]
    },
    {
     "name": "stderr",
     "output_type": "stream",
     "text": [
      "[*********************100%***********************]  1 of 1 completed\n",
      "\n",
      "1 Failed download:\n",
      "['RGC']: YFPricesMissingError('possibly delisted; no price data found  (1d 2020-10-27 -> 2020-12-03) (Yahoo error = \"Data doesn\\'t exist for startDate = 1603771200, endDate = 1606971600\")')\n"
     ]
    },
    {
     "name": "stdout",
     "output_type": "stream",
     "text": [
      "RGC: Data currently unavailable...\n"
     ]
    },
    {
     "name": "stderr",
     "output_type": "stream",
     "text": [
      "[*********************100%***********************]  1 of 1 completed\n",
      "\n",
      "1 Failed download:\n",
      "['GATE']: YFPricesMissingError('possibly delisted; no price data found  (1d 2020-10-27 -> 2020-12-03) (Yahoo error = \"Data doesn\\'t exist for startDate = 1603771200, endDate = 1606971600\")')\n"
     ]
    },
    {
     "name": "stdout",
     "output_type": "stream",
     "text": [
      "GATE: Data currently unavailable...\n"
     ]
    },
    {
     "name": "stderr",
     "output_type": "stream",
     "text": [
      "[*********************100%***********************]  1 of 1 completed\n",
      "\n",
      "1 Failed download:\n",
      "['GATEW']: YFPricesMissingError('possibly delisted; no price data found  (1d 2020-10-27 -> 2020-12-03) (Yahoo error = \"Data doesn\\'t exist for startDate = 1603771200, endDate = 1606971600\")')\n",
      "[*********************100%***********************]  1 of 1 completed\n"
     ]
    },
    {
     "name": "stdout",
     "output_type": "stream",
     "text": [
      "GATEW: Data currently unavailable...\n",
      "MSCI: This stock is quite volatile, but you can diversify it away\n"
     ]
    },
    {
     "name": "stderr",
     "output_type": "stream",
     "text": [
      "[*********************100%***********************]  1 of 1 completed\n",
      "\n",
      "1 Failed download:\n",
      "['MNDR']: YFPricesMissingError('possibly delisted; no price data found  (1d 2020-10-27 -> 2020-12-03) (Yahoo error = \"Data doesn\\'t exist for startDate = 1603771200, endDate = 1606971600\")')\n",
      "[*********************100%***********************]  1 of 1 completed\n",
      "\n",
      "1 Failed download:\n",
      "['HONDW']: YFPricesMissingError('possibly delisted; no price data found  (1d 2020-10-27 -> 2020-12-03)')\n",
      "[*********************100%***********************]  1 of 1 completed\n",
      "\n",
      "1 Failed download:\n",
      "['TWNP']: YFPricesMissingError('possibly delisted; no price data found  (1d 2020-10-27 -> 2020-12-03) (Yahoo error = \"Data doesn\\'t exist for startDate = 1603771200, endDate = 1606971600\")')\n",
      "[*********************100%***********************]  1 of 1 completed\n",
      "\n",
      "1 Failed download:\n",
      "['DATSW']: YFPricesMissingError('possibly delisted; no price data found  (1d 2020-10-27 -> 2020-12-03) (Yahoo error = \"Data doesn\\'t exist for startDate = 1603771200, endDate = 1606971600\")')\n",
      "[*********************100%***********************]  1 of 1 completed\n",
      "\n",
      "1 Failed download:\n",
      "['AREBW']: YFPricesMissingError('possibly delisted; no price data found  (1d 2020-10-27 -> 2020-12-03)')\n",
      "[*********************100%***********************]  1 of 1 completed\n",
      "\n",
      "1 Failed download:\n",
      "['TWNPV']: YFTzMissingError('possibly delisted; no timezone found')\n",
      "[*********************100%***********************]  1 of 1 completed\n",
      "\n",
      "1 Failed download:\n",
      "['MGAM']: YFPricesMissingError('possibly delisted; no price data found  (1d 2020-10-27 -> 2020-12-03) (Yahoo error = \"Data doesn\\'t exist for startDate = 1603771200, endDate = 1606971600\")')\n",
      "[*********************100%***********************]  1 of 1 completed\n",
      "\n",
      "1 Failed download:\n",
      "['WLDSW']: YFPricesMissingError('possibly delisted; no price data found  (1d 2020-10-27 -> 2020-12-03)')\n",
      "[*********************100%***********************]  1 of 1 completed\n",
      "\n",
      "1 Failed download:\n",
      "['DGNX']: YFPricesMissingError('possibly delisted; no price data found  (1d 2020-10-27 -> 2020-12-03) (Yahoo error = \"Data doesn\\'t exist for startDate = 1603771200, endDate = 1606971600\")')\n",
      "[*********************100%***********************]  1 of 1 completed"
     ]
    },
    {
     "name": "stdout",
     "output_type": "stream",
     "text": [
      "MNDR: Data currently unavailable...\n",
      "\n",
      "Selected 0 stocks: []\n",
      "\n",
      " No stocks passed all filters. Using fallback...\n"
     ]
    },
    {
     "name": "stderr",
     "output_type": "stream",
     "text": [
      "\n",
      "[*********************100%***********************]  1 of 1 completed\n",
      "\n",
      "1 Failed download:\n",
      "['SKBL']: YFPricesMissingError('possibly delisted; no price data found  (1d 2020-10-27 -> 2020-12-03) (Yahoo error = \"Data doesn\\'t exist for startDate = 1603771200, endDate = 1606971600\")')\n",
      "[*********************100%***********************]  1 of 1 completed\n",
      "[*********************100%***********************]  1 of 1 completed\n",
      "[*********************100%***********************]  1 of 1 completed\n",
      "\n",
      "1 Failed download:\n",
      "['MLGO']: YFPricesMissingError('possibly delisted; no price data found  (1d 2020-10-27 -> 2020-12-03) (Yahoo error = \"Data doesn\\'t exist for startDate = 1603771200, endDate = 1606971600\")')\n",
      "[*********************100%***********************]  1 of 1 completed\n",
      "\n",
      "1 Failed download:\n",
      "['FFIE']: YFPricesMissingError('possibly delisted; no price data found  (1d 2020-10-27 -> 2020-12-03) (Yahoo error = \"Data doesn\\'t exist for startDate = 1603771200, endDate = 1606971600\")')\n",
      "[*********************100%***********************]  1 of 1 completed\n",
      "[*********************100%***********************]  1 of 1 completed\n",
      "[*********************100%***********************]  1 of 1 completed\n",
      "[*********************100%***********************]  1 of 1 completed\n",
      "\n",
      "1 Failed download:\n",
      "['AIMAW']: YFPricesMissingError('possibly delisted; no price data found  (1d 2020-10-27 -> 2020-12-03)')\n",
      "[*********************100%***********************]  1 of 1 completed\n",
      "[*********************100%***********************]  1 of 1 completed\n",
      "\n",
      "1 Failed download:\n",
      "['GSPC']: YFTzMissingError('possibly delisted; no timezone found')\n",
      "[*********************100%***********************]  1 of 1 completed\n",
      "\n",
      "1 Failed download:\n",
      "['NMAX']: YFPricesMissingError('possibly delisted; no price data found  (1d 2020-10-27 -> 2020-12-03) (Yahoo error = \"Data doesn\\'t exist for startDate = 1603771200, endDate = 1606971600\")')\n",
      "[*********************100%***********************]  1 of 1 completed\n",
      "[*********************100%***********************]  1 of 1 completed\n",
      "\n",
      "1 Failed download:\n",
      "['YOSH']: YFPricesMissingError('possibly delisted; no price data found  (1d 2020-10-27 -> 2020-12-03) (Yahoo error = \"Data doesn\\'t exist for startDate = 1603771200, endDate = 1606971600\")')\n",
      "[*********************100%***********************]  1 of 1 completed\n",
      "\n",
      "1 Failed download:\n",
      "['GITS']: YFPricesMissingError('possibly delisted; no price data found  (1d 2020-10-27 -> 2020-12-03) (Yahoo error = \"Data doesn\\'t exist for startDate = 1603771200, endDate = 1606971600\")')\n",
      "[*********************100%***********************]  1 of 1 completed\n",
      "\n",
      "1 Failed download:\n",
      "['RGC']: YFPricesMissingError('possibly delisted; no price data found  (1d 2020-10-27 -> 2020-12-03) (Yahoo error = \"Data doesn\\'t exist for startDate = 1603771200, endDate = 1606971600\")')\n",
      "[*********************100%***********************]  1 of 1 completed\n",
      "\n",
      "1 Failed download:\n",
      "['GATE']: YFPricesMissingError('possibly delisted; no price data found  (1d 2020-10-27 -> 2020-12-03) (Yahoo error = \"Data doesn\\'t exist for startDate = 1603771200, endDate = 1606971600\")')\n",
      "[*********************100%***********************]  1 of 1 completed\n",
      "\n",
      "1 Failed download:\n",
      "['GATEW']: YFPricesMissingError('possibly delisted; no price data found  (1d 2020-10-27 -> 2020-12-03) (Yahoo error = \"Data doesn\\'t exist for startDate = 1603771200, endDate = 1606971600\")')\n",
      "[*********************100%***********************]  1 of 1 completed\n",
      "[*********************100%***********************]  1 of 1 completed\n",
      "\n",
      "1 Failed download:\n",
      "['MNDR']: YFPricesMissingError('possibly delisted; no price data found  (1d 2020-10-27 -> 2020-12-03) (Yahoo error = \"Data doesn\\'t exist for startDate = 1603771200, endDate = 1606971600\")')\n",
      "[*********************100%***********************]  1 of 1 completed\n"
     ]
    },
    {
     "name": "stdout",
     "output_type": "stream",
     "text": [
      "Fallback Stocks: ['ABTS', 'LXEH', 'FTFT', 'TOI', 'DJI']\n",
      "\n",
      "Risk Tolerance Score: 0.14\n"
     ]
    },
    {
     "name": "stderr",
     "output_type": "stream",
     "text": [
      "[*********************100%***********************]  1 of 1 completed\n",
      "[*********************100%***********************]  1 of 1 completed\n",
      "[*********************100%***********************]  1 of 1 completed\n",
      "[*********************100%***********************]  1 of 1 completed\n"
     ]
    },
    {
     "name": "stdout",
     "output_type": "stream",
     "text": [
      "\n",
      " Final Portfolio:\n",
      "ABTS: 56 shares\n",
      "FTFT: 1 shares\n",
      "TOI: 3 shares\n"
     ]
    }
   ],
   "source": [
    "import pandas as pd\n",
    "import numpy as np\n",
    "from lets_plot import *\n",
    "from statsmodels.api import OLS, add_constant\n",
    "from statsmodels.stats.sandwich_covariance import cov_hac, cov_white_simple\n",
    "from statsmodels.tsa.stattools import adfuller\n",
    "import requests\n",
    "from io import StringIO\n",
    "import yfinance as yf\n",
    "import scipy.optimize as opt\n",
    "import json\n",
    "import time\n",
    "from typing import Dict, Optional\n",
    "import math\n",
    "from tenacity import retry, stop_after_attempt, wait_random_exponential\n",
    "\n",
    "LetsPlot.setup_html()\n",
    "\n",
    "# Load CPI data\n",
    "cpiData = pd.read_csv('cpi_index_all_00-25.csv', skiprows=12, \n",
    "                     names=['Year', 1, 2, 3, 4, 5, 6, 7, 8, 9, 10, 11, 12, 'Half1', 'Half2'])\n",
    "cpiData.set_index('Year', inplace=True)\n",
    "\n",
    "# Ticker lists (pre-validated)\n",
    "tickers00 = [\"SCCO\", \"VALE\", \"GGB\", \"MO\", \"BOOM\", \"BPT\", \"DECK\", \"BBD\", \"AMED\",\n",
    "            \"CLH\", \"BRFS\", \"MNST\", \"MED\", \"BWEN\", \"HUSA\", \"SID\", \"AIMD\", \"CIG\"]\n",
    "tickers07 = [\"UAVS\"]\n",
    "tickers08 = [\"AIMD\", \"NIXX\", \"TOMZ\"]\n",
    "tickers10 = [\"ARMN\"]\n",
    "tickers13 = [\"NUTX\"]\n",
    "tickers14 = [\"PETV\"]\n",
    "tickers15 = [\"BLNE\", \"AIMD\", \"GRNQ\", \"FNGR\", \"PNBK\", \"AVXL\", \"ENVB\", \"DLPN\",\n",
    "            \"WKHS\", \"AUID\", \"AMBO\", \"THTX\"]\n",
    "tickers17 = [\"AQB\", \"FRHC\", \"HIVE\"]\n",
    "tickers18 = [\"ALAR\", \"ALBT\"]\n",
    "tickers19 = [\"AXSM\", \"FTLF\", \"SOBR\", \"TNK\", \"NCRA\", \"OXBRW\", \"KOD\", \"QIPT\", \n",
    "            \"SBEV\", \"RLMD\", \"EVER\", \"RCEL\", \"DRRX\", \"IVDA\", \"CTM\", \"NCPL\",\n",
    "            \"NISN\", \"BATL\", \"MBOT\", \"SAVA\", \"OESX\", \"CDLX\", \"NGNE\", \"ENPH\", \"PNTG\"]\n",
    "tickers20 = [\"FFIE\"]\n",
    "tickers21 = [\"GFRX\"]\n",
    "tickers22 = [\"APCXM\"]\n",
    "tickers23 = [\"AZTR\", \"MDXH\"]\n",
    "tickers24 = [\"WLDSW\", \"MTEKW\", \"NXLIW\", \"RGTIW\", \"TSSI\", \"SNYR\", \"RZLVW\", \"GRRRW\",\n",
    "            \"AISPW\", \"SOUNW\", \"WGS\", \"DRUG\", \"ILLRW\", \"KULR\", \"QUBT\", \"LENZ\", \"PDYN\",\n",
    "            \"FLDDW\", \"WGSWW\", \"ZIVO\", \"RVSNW\", \"RGTI\", \"RCAT\", \"PSIX\", \"MNPR\"]\n",
    "tickersIndexes = [\"DGNX\", \"AIMAW\", \"MGAM\", \"AREBW\", \"DATSW\", \"RGC\", \"GATEW\", \"HONDW\",\n",
    "                \"YOSH\", \"WLDSW\", \"LXEH\", \"MNDR\", \"FTFT\", \"CRVO\", \"TOI\", \"TWNPV\", \"MLGO\",\n",
    "                \"GITS\", \"DOMH\", \"TWNP\", \"GATE\", \"NMAX\", \"ABTS\", \"SKBL\", \"GSPC\", \"MSCI\", \"AAPL\", \"DJI\"]\n",
    "\n",
    "# API Configuration\n",
    "URL = \"mts-prism.com\"\n",
    "PORT = 8082\n",
    "TEAM_API_CODE = \"d747eea0e03cea824389395740436f6d\"\n",
    "\n",
    "# Helper Functions\n",
    "@retry(stop=stop_after_attempt(3), wait=wait_random_exponential(multiplier=1, min=4, max=10))\n",
    "def safe_yfinance_request(ticker):\n",
    "    \"\"\"Safe wrapper for yfinance requests with retries\"\"\"\n",
    "    try:\n",
    "        t = yf.Ticker(ticker)\n",
    "        time.sleep(0.2)  # Rate limiting protection\n",
    "        return t.info\n",
    "    except Exception as e:\n",
    "        print(f\"Error fetching data for {ticker}: {str(e)}\")\n",
    "        return None\n",
    "\n",
    "def stockPrice(stockName, T0, T1):\n",
    "    \"\"\"Get stock prices with error handling\"\"\"\n",
    "    try:\n",
    "        data = yf.download(stockName, start=T0, end=T1, progress=True)\n",
    "        if data.empty:\n",
    "            return None, None\n",
    "        return round(data.iloc[0, 0], 4), round(data.iloc[-1, 0], 4)\n",
    "    except Exception:\n",
    "        return None, None\n",
    "\n",
    "def stockSector(stockName):\n",
    "    \"\"\"Get sector with error handling\"\"\"\n",
    "    info = safe_yfinance_request(stockName)\n",
    "    return info.get(\"sector\") if info else None\n",
    "\n",
    "def stockIndustry(stockName):\n",
    "    \"\"\"Get industry with error handling\"\"\"\n",
    "    info = safe_yfinance_request(stockName)\n",
    "    return info.get(\"industry\") if info else None\n",
    "\n",
    "def systematicRisk(stockName):\n",
    "    \"\"\"Get beta with error handling\"\"\"\n",
    "    info = safe_yfinance_request(stockName)\n",
    "    return info.get(\"beta\") if info else None\n",
    "\n",
    "def inflationRisk(stockName, T0, T1):\n",
    "    \"\"\"Calculate inflation-adjusted returns\"\"\"\n",
    "    try:\n",
    "        startPrice, endPrice = stockPrice(stockName, T0, T1)\n",
    "        if None in (startPrice, endPrice):\n",
    "            return 1\n",
    "        \n",
    "        nominalReturn = (endPrice - startPrice) / startPrice\n",
    "        \n",
    "        yearStart, monthStart = map(int, T0.split(\"-\"))\n",
    "        yearEnd, monthEnd = map(int, T1.split(\"-\"))\n",
    "        \n",
    "        endCPI = cpiData.loc[yearStart, monthStart]\n",
    "        beginningCPI = cpiData.loc[yearEnd, monthEnd]\n",
    "        inflationRate = (endCPI - beginningCPI) / beginningCPI\n",
    "        \n",
    "        if (nominalReturn - inflationRate) > 0:\n",
    "            return 1 \n",
    "        else:\n",
    "            return 0\n",
    "    except Exception:\n",
    "        return 0\n",
    "\n",
    "def liquidityRisk(stockName):\n",
    "    \"\"\"Check liquidity with error handling\"\"\"\n",
    "    try:\n",
    "        info = safe_yfinance_request(stockName)\n",
    "        if not info:\n",
    "            return 1\n",
    "            \n",
    "        avg_volume = info.get(\"averageVolume\", 0)\n",
    "        market_cap = info.get(\"marketCap\", 0)\n",
    "        \n",
    "        if avg_volume > 100000 or market_cap > 500000 :\n",
    "            return 1 \n",
    "        else:\n",
    "            return 0\n",
    "    except Exception:\n",
    "        return 0\n",
    "\n",
    "# Core Portfolio Functions\n",
    "def getTickerGroup(T0, T1):\n",
    "    \"\"\"Get appropriate tickers for time period\"\"\"\n",
    "    year = int(T1.split(\"-\")[0])\n",
    "    tickerList = []\n",
    "    \n",
    "    # Base tickers\n",
    "    if year <= 2010:\n",
    "        tickerList.extend(tickers00 + tickersIndexes)\n",
    "    elif 2010 < year < 2020:\n",
    "        tickerList.extend(tickers10 + tickersIndexes)\n",
    "    else:\n",
    "        tickerList.extend(tickersIndexes)\n",
    "    \n",
    "    # Year-specific additions\n",
    "    year_mapping = {\n",
    "        2007: tickers07, 2008: tickers08, 2010: tickers10,\n",
    "        2013: tickers13, 2014: tickers14, 2015: tickers15,\n",
    "        2017: tickers17, 2018: tickers18, 2019: tickers19,\n",
    "        2020: tickers20, 2021: tickers21, 2022: tickers22,\n",
    "        2023: tickers23, 2024: tickers24\n",
    "    }\n",
    "    \n",
    "    if year in year_mapping:\n",
    "        tickerList.extend(year_mapping[year])\n",
    "    \n",
    "    return list(set(tickerList))\n",
    "\n",
    "def choosingStocks(tickerList, T0, T1, avoid_sectors=[]):\n",
    "    \"\"\"Filter stocks based on criteria\"\"\"\n",
    "    stockList = []\n",
    "    print(f\"\\n{'='*50}\\nStarting stock selection for {T0} to {T1}\")\n",
    "    print(f\"Avoiding sectors: {avoid_sectors}\")\n",
    "    \n",
    "    for ticker in tickerList:\n",
    "        try:\n",
    "            flag = 0\n",
    "\n",
    "            # Price data check\n",
    "            startPrice, endPrice = stockPrice(ticker, T0, T1)\n",
    "            if None in (startPrice, endPrice):\n",
    "                print(f\"{ticker}: Data currently unavailable...\")\n",
    "                continue\n",
    "\n",
    "            # Get sector and basic info\n",
    "            info = safe_yfinance_request(ticker)\n",
    "            if not info:\n",
    "                print(f\"{ticker}: Data currently unavailable...\")\n",
    "                continue\n",
    "                \n",
    "            sector = info.get(\"sector\")\n",
    "            if not sector:\n",
    "                print(f\"{ticker}: No sector data.\")\n",
    "                continue\n",
    "                \n",
    "            # Sector filter\n",
    "            if sector in avoid_sectors:\n",
    "                print(f\"{ticker}: Let's exclude this stock as it is part of the ({sector}) sector.\")\n",
    "                answer = input(\"Do you wish to change your mind and INCLUDE this stock? (yes/no): \")\n",
    "                if answer == \"yes\" or \"Yes\" or \"YES\":\n",
    "                    print(f\"Shall we {ticker} continue?\")\n",
    "                    continue\n",
    "                else:\n",
    "                    print(f\"Excluding {ticker}\")\n",
    "                    continue \n",
    "            \n",
    "            # Systematic risk\n",
    "            if systematicRisk(ticker) > 1.2:\n",
    "                flag += 1\n",
    "                print(f\"{ticker}: This stock is quite volatile, but you can diversify it away\")\n",
    "                continue\n",
    "\n",
    "            # Liquidity filter\n",
    "            if liquidityRisk(ticker) == 0:\n",
    "                flag += 1\n",
    "                if flag == 2:\n",
    "                    print(f\"{ticker}: Do you really want this stock? It is quite risky...\")\n",
    "                print(f\"{ticker}: Be careful, you might not be able to retrieve your cash!\")\n",
    "                continue\n",
    "                \n",
    "            # Inflation risk check\n",
    "            if inflationRisk(ticker, T0, T1) == 0:\n",
    "                flag += 1\n",
    "                print(f\"{ticker}: Do not invest! You will lose the value of your investment.\")\n",
    "                if flag > 1: \n",
    "                    \"This was a terrible investment anyways...\"\n",
    "                continue\n",
    "                \n",
    "            # All checks passed\n",
    "            stockList.append(ticker)\n",
    "            print(f\"{ticker}: Accepted\")\n",
    "            \n",
    "        except Exception as e:\n",
    "            print(f\"{ticker}: Error during processing - {str(e)}\")\n",
    "            continue\n",
    "    \n",
    "    print(f\"\\nSelected {len(stockList)} stocks: {stockList}\")\n",
    "    return stockList\n",
    "\n",
    "def calculate_risk_tolerance_score(age, salary, budget):\n",
    "    \"\"\"Calculate risk tolerance\"\"\"\n",
    "    age_factor = 1 - (age / 100)\n",
    "    salary_factor = min(salary / 200000, 1)\n",
    "    budget_factor = min(budget / 50000, 1)\n",
    "    return (0.4 * age_factor) + (0.3 * salary_factor) + (0.3 * budget_factor)\n",
    "\n",
    "def calc_weight(riskAversion, investmentReturn, stockName):\n",
    "    \"\"\"Calculate stock weight in portfolio\"\"\"\n",
    "    beta = systematicRisk(stockName)\n",
    "    if beta and beta > 0 and riskAversion > 0:\n",
    "        return abs(investmentReturn) / (riskAversion * beta)\n",
    "    return 0\n",
    "\n",
    "def calc_amount_of_stock_to_buy(stockList, riskAversion, T0, T1, budget):\n",
    "    \"\"\"Calculate optimal stock quantities\"\"\"\n",
    "    if not stockList:\n",
    "        return []\n",
    "    \n",
    "    portfolio_data = []\n",
    "    for stock in stockList:\n",
    "        startPrice, endPrice = stockPrice(stock, T0, T1)\n",
    "        return_pct = (endPrice - startPrice) / startPrice\n",
    "        weight = calc_weight(riskAversion, return_pct, stock)\n",
    "        current_price = endPrice\n",
    "        \n",
    "        if weight > 0 and current_price > 0:\n",
    "            portfolio_data.append({\n",
    "                'ticker': stock,\n",
    "                'weight': weight,\n",
    "                'price': current_price\n",
    "            })\n",
    "    \n",
    "    if not portfolio_data:\n",
    "        return []\n",
    "    \n",
    "    total_weight = sum(item['weight'] for item in portfolio_data)\n",
    "    portfolio = []\n",
    "    for item in portfolio_data:\n",
    "        shares = int((item['weight'] / total_weight * budget) // item['price'])\n",
    "        if shares > 0:\n",
    "            portfolio.append((item['ticker'], shares))\n",
    "    \n",
    "    return portfolio\n",
    "\n",
    "# API Communication Functions\n",
    "def send_get_request(path):\n",
    "    \"\"\"Send GET request to server\"\"\"\n",
    "    headers = {\"X-API-Code\": TEAM_API_CODE}\n",
    "    response = requests.get(f\"http://{URL}:{PORT}/{path}\", headers=headers)\n",
    "    return (True, response.text) if response.status_code == 200 else (False, response.text)\n",
    "\n",
    "def send_post_request(path, data=None):\n",
    "    \"\"\"Send POST request to server\"\"\"\n",
    "    headers = {\"X-API-Code\": TEAM_API_CODE, \"Content-Type\": \"application/json\"}\n",
    "    response = requests.post(f\"http://{URL}:{PORT}{path}\", \n",
    "                           data=json.dumps(data), \n",
    "                           headers=headers)\n",
    "    return (True, response.text) if response.status_code == 200 else (False, response.text)\n",
    "\n",
    "def get_context():\n",
    "    \"\"\"Get client context\"\"\"\n",
    "    return send_get_request(\"/request\")\n",
    "\n",
    "def send_portfolio(weighted_stocks):\n",
    "    \"\"\"Submit portfolio to server\"\"\"\n",
    "    data = [{\"ticker\": stock[0], \"quantity\": stock[1]} for stock in weighted_stocks]\n",
    "    return send_post_request(\"/submit\", data=data)\n",
    "\n",
    "def parse_nested_json(json_str):\n",
    "    \"\"\"Parse nested JSON response\"\"\"\n",
    "    try:\n",
    "        outer_dict = json.loads(json_str)\n",
    "        if 'message' in outer_dict:\n",
    "            return json.loads(outer_dict['message'])\n",
    "        return outer_dict\n",
    "    except Exception:\n",
    "        return {}\n",
    "\n",
    "# Main Execution\n",
    "if __name__ == \"__main__\":\n",
    "    # Get client context\n",
    "    success, context = get_context()\n",
    "    if not success:\n",
    "        print(f\"Error getting context: {context}\")\n",
    "        exit()\n",
    "    result = parse_nested_json(context)\n",
    "    '''\n",
    "    result = {\n",
    "      \"timestamp\": \"2025-04-06T05:29:26.155091195Z\",\n",
    "      \"start\": \"2014-06-06\",\n",
    "      \"end\": \"2014-08-09\",\n",
    "      \"age\": 27,\n",
    "      \"employed\": True,\n",
    "      \"salary\": 28036,\n",
    "      \"budget\": 8483,\n",
    "      \"dislikes\": [\n",
    "        \"Crypto Assets\",\n",
    "        \"Finance or Crypto Assets\"\n",
    "      ]\n",
    "    }\n",
    "    '''\n",
    "    print(\"\\nClient Requirements:\")\n",
    "    print(f\"Period: {result['start']} to {result['end']}\")\n",
    "    print(f\"Disliked Sectors: {result['dislikes']}\")\n",
    "    print(f\"Age: {result['age']}, Salary: ${result['salary']:,}, Budget: ${result['budget']:,}\")\n",
    "    \n",
    "    # Get and filter stocks\n",
    "    potential_list = getTickerGroup(result[\"start\"], result[\"end\"])\n",
    "    \n",
    "    my_stock = choosingStocks(potential_list, result[\"start\"], result[\"end\"], \n",
    "                            avoid_sectors=result[\"dislikes\"])\n",
    "    # Fallback if no stocks pass filters\n",
    "    if not my_stock:\n",
    "        print(\"\\n No stocks passed all filters. Using fallback...\")\n",
    "        my_stock = [t for t in potential_list \n",
    "                   if stockPrice(t, result[\"start\"], result[\"end\"])[0] is not None][:5]\n",
    "        print(f\"Fallback Stocks: {my_stock}\")\n",
    "    \n",
    "    # Calculate portfolio\n",
    "    risk_score = calculate_risk_tolerance_score(result[\"age\"], result[\"salary\"], result[\"budget\"])\n",
    "    print(f\"\\nRisk Tolerance Score: {risk_score:.2f}\")\n",
    "    \n",
    "    portfolio = calc_amount_of_stock_to_buy(my_stock, risk_score, \n",
    "                                          result[\"start\"], result[\"end\"], \n",
    "                                          result[\"budget\"])\n",
    "    \n",
    "    if not portfolio:\n",
    "        print(\"\\n Error: Could not construct portfolio\")\n",
    "    else:\n",
    "        print(\"\\n Final Portfolio:\")\n",
    "        for stock, amount in portfolio:\n",
    "            print(f\"{stock}: {amount} shares\")\n",
    "        \n",
    "        # Submit portfolio\n",
    "        success, response = send_portfolio(portfolio)\n",
    "        if success:\n",
    "            print(f\"\\n Portfolio submitted successfully!\")\n",
    "            print(response)\n",
    "        else:\n",
    "            print(f\"\\n Submission failed. Response: {response}\")\n",
    "    "
   ]
  }
 ],
 "metadata": {
  "kernelspec": {
   "display_name": "Python 3",
   "language": "python",
   "name": "python3"
  },
  "language_info": {
   "codemirror_mode": {
    "name": "ipython",
    "version": 3
   },
   "file_extension": ".py",
   "mimetype": "text/x-python",
   "name": "python",
   "nbconvert_exporter": "python",
   "pygments_lexer": "ipython3",
   "version": "3.12.1"
  }
 },
 "nbformat": 4,
 "nbformat_minor": 5
}
